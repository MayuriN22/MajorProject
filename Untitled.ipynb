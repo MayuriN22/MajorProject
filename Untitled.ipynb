{
 "cells": [
  {
   "cell_type": "code",
   "execution_count": 535,
   "metadata": {},
   "outputs": [],
   "source": [
    "import tweepy\n",
    "import csv\n",
    "import pandas as pd\n",
    "import numpy as np\n",
    "import re\n",
    "import preprocessor as p\n",
    " ### Keys ####\n",
    "access_token=\"1293959918395854849-jf88toPy2dMLclRoZyEvL0XV201k4o\"\n",
    "access_token_secret=\"Xa13srirqViUCrrSzsd6fMqKsmJsHEgqcisk2DmBdr5Ru\"\n",
    "consumer_key='pP2azRfd0GChnLHpIuUlVVUJk'\n",
    "consumer_secret='sk2u1aUbtqIdgBgLbBmQrCkqbDpLDMq8MmSATnBtKMe39zxDuy'"
   ]
  },
  {
   "cell_type": "code",
   "execution_count": 536,
   "metadata": {},
   "outputs": [],
   "source": [
    "# First literation\n",
    "auth = tweepy.OAuthHandler(consumer_key, consumer_secret)\n",
    "auth.set_access_token(access_token, access_token_secret)\n",
    "api = tweepy.API(auth,wait_on_rate_limit=True)\n",
    "ns_data=tweepy.Cursor(api.search,\n",
    "q=\"#COVID-19\" or 'covid' or \"#corona\" or '#stayhome' or '#lockdown' or '#qurantine' or '#coronavirus' or '#pandemic' or\n",
    "  '#staysafe'  or '#coronavirusupdate' or '#socialdistancing',\n",
    "                lang=\"en\",since=\"2020-03-03\",untill=\"2020-06-06\",tweet_mode=\"extended\").items(2500)\n",
    "ID=[]\n",
    "text=[]\n",
    "followers=[]\n",
    "following=[]\n",
    "tweet_count=[]\n",
    "reputationl=[]\n",
    "sn_len=[]\n",
    "ds_len=[]\n",
    "label=[]\n",
    "retweet_count=[]\n",
    "temp_links=[]\n",
    "created_at=[]\n",
    "collected_at=[]\n",
    "\n",
    "for tweet in ns_data:\n",
    "    ID.append(tweet.id)\n",
    "    sn_len.append(len(tweet.user.screen_name))\n",
    "    followers.append(tweet.user.followers_count)\n",
    "    following.append(tweet.user.friends_count)\n",
    "    tweet_count.append(tweet.user.statuses_count)\n",
    "    ds_len.append(len(tweet.user.description))\n",
    "    retweet_count.append(tweet.retweet_count)\n",
    "    temp_links.append(tweet.entities['urls'])\n",
    "    created_at.append(tweet.user.created_at)\n",
    "    collected_at.append(tweet.created_at)\n",
    "    text.append(tweet.full_text)\n",
    "\n"
   ]
  },
  {
   "cell_type": "code",
   "execution_count": 537,
   "metadata": {},
   "outputs": [],
   "source": [
    "# Second literation\n",
    "auth = tweepy.OAuthHandler(consumer_key, consumer_secret)\n",
    "auth.set_access_token(access_token, access_token_secret)\n",
    "api = tweepy.API(auth,wait_on_rate_limit=True)\n",
    "ns_data1=tweepy.Cursor(api.search,\n",
    "q=\"#COVID-19\" or 'covid' or \"#corona\" or '#stayhome' or '#lockdown' or '#qurantine' or '#coronavirus' or '#pandemic' or\n",
    "  '#staysafe'  or '#coronavirusupdate' or '#socialdistancing',\n",
    "                lang=\"en\",since=\"2020-03-03\",untill=\"2020-06-06\",tweet_mode=\"extended\").items(2500)\n",
    "\n",
    "for tweet in ns_data1:\n",
    "    ID.append(tweet.id)\n",
    "    sn_len.append(len(tweet.user.screen_name))\n",
    "    followers.append(tweet.user.followers_count)\n",
    "    following.append(tweet.user.friends_count)\n",
    "    tweet_count.append(tweet.user.statuses_count)\n",
    "    ds_len.append(len(tweet.user.description))\n",
    "    retweet_count.append(tweet.retweet_count)\n",
    "    temp_links.append(tweet.entities['urls'])\n",
    "    created_at.append(tweet.user.created_at)\n",
    "    collected_at.append(tweet.created_at)\n",
    "    text.append(tweet.full_text)\n",
    "\n"
   ]
  },
  {
   "cell_type": "code",
   "execution_count": 538,
   "metadata": {},
   "outputs": [],
   "source": [
    "# Third literation\n",
    "\n",
    "auth = tweepy.OAuthHandler(consumer_key, consumer_secret)\n",
    "auth.set_access_token(access_token, access_token_secret)\n",
    "api = tweepy.API(auth,wait_on_rate_limit=True)\n",
    "ns_data2=tweepy.Cursor(api.search,\n",
    "q=\"#COVID-19\" or 'covid' or \"#corona\" or '#stayhome' or '#lockdown' or '#qurantine' or '#coronavirus' or '#pandemic' or\n",
    "  '#staysafe'  or '#coronavirusupdate' or '#socialdistancing',\n",
    "                lang=\"en\",since=\"2020-03-03\",untill=\"2020-06-06\",tweet_mode=\"extended\").items(2500)\n",
    "\n",
    "for tweet in ns_data2:\n",
    "    ID.append(tweet.id)\n",
    "    sn_len.append(len(tweet.user.screen_name))\n",
    "    followers.append(tweet.user.followers_count)\n",
    "    following.append(tweet.user.friends_count)\n",
    "    tweet_count.append(tweet.user.statuses_count)\n",
    "    ds_len.append(len(tweet.user.description))\n",
    "    retweet_count.append(tweet.retweet_count)\n",
    "    temp_links.append(tweet.entities['urls'])\n",
    "    created_at.append(tweet.user.created_at)\n",
    "    collected_at.append(tweet.created_at)\n",
    "    text.append(tweet.full_text)\n"
   ]
  },
  {
   "cell_type": "code",
   "execution_count": 539,
   "metadata": {},
   "outputs": [],
   "source": [
    "# Fourth literation\n",
    "\n",
    "auth = tweepy.OAuthHandler(consumer_key, consumer_secret)\n",
    "auth.set_access_token(access_token, access_token_secret)\n",
    "api = tweepy.API(auth,wait_on_rate_limit=True)\n",
    "ns_data3=tweepy.Cursor(api.search,\n",
    "q=\"#COVID-19\" or 'covid' or \"#corona\" or '#stayhome' or '#lockdown' or '#qurantine' or '#coronavirus' or '#pandemic' or\n",
    "  '#staysafe'  or '#coronavirusupdate' or '#socialdistancing',\n",
    "                lang=\"en\",since=\"2020-03-03\",untill=\"2020-06-06\",tweet_mode=\"extended\").items(2500)\n",
    "\n",
    "for tweet in ns_data3:\n",
    "    ID.append(tweet.id)\n",
    "    sn_len.append(len(tweet.user.screen_name))\n",
    "    followers.append(tweet.user.followers_count)\n",
    "    following.append(tweet.user.friends_count)\n",
    "    tweet_count.append(tweet.user.statuses_count)\n",
    "    ds_len.append(len(tweet.user.description))\n",
    "    retweet_count.append(tweet.retweet_count)\n",
    "    temp_links.append(tweet.entities['urls'])\n",
    "    created_at.append(tweet.user.created_at)\n",
    "    collected_at.append(tweet.created_at)\n",
    "    text.append(tweet.full_text)\n"
   ]
  },
  {
   "cell_type": "code",
   "execution_count": 540,
   "metadata": {},
   "outputs": [],
   "source": [
    "df=pd.DataFrame()\n",
    "df['ID']=ID\n",
    "df['sn_len']=sn_len\n",
    "df['followers']=followers\n",
    "df['following']=following\n",
    "df['tweet_count']=tweet_count\n",
    "df['retweet_count']=retweet_count\n",
    "df['ds_len']=ds_len\n",
    "df['created_at']=created_at\n",
    "df['collected_at']=collected_at\n",
    "\n",
    "col1=df['ID']\n",
    "col2=df['followers']\n",
    "col3=df['following']\n",
    "col4=df['sn_len']\n",
    "col5=df['ds_len']\n",
    "col6=df['tweet_count']\n",
    "col7=df['retweet_count']\n",
    "col8=df['created_at']\n",
    "col9=df['collected_at']"
   ]
  },
  {
   "cell_type": "code",
   "execution_count": 541,
   "metadata": {},
   "outputs": [],
   "source": [
    "#additional feature\n",
    "\n",
    "S_count=0\n",
    "NS_count=0\n",
    "ftof_ratio=df['followers']/df['following']\n",
    "reput=df['followers']/(df['followers']+df['following'])\n",
    "AgeAcc=((df['collected_at']-df['created_at']).astype('timedelta64[h]'))/24\n",
    "\n",
    "\n",
    "for i in df['followers']:\n",
    "    if i==0:\n",
    "        T_PerFollower=0\n",
    "    else:\n",
    "        T_PerFollower=df['tweet_count']/i\n",
    "\n",
    "AgeOfAccount=[]\n",
    "TweetPerFollower=[]\n",
    "TweetPerDay=[]\n",
    "reputation=[]\n",
    "\n",
    "check_http=[]\n",
    "for i in range(len(temp_links)):\n",
    "    for j in temp_links[i]:\n",
    "        if len(temp_links[i])!=0:\n",
    "            if 'https:' in j['expanded_url']:\n",
    "                check_http.append(i)\n",
    "for i in range(0,len(ftof_ratio)):\n",
    "    if ftof_ratio[i]<0.5 and reput[i]<0.8 and retweet_count[i]<5  and (i not in check_http) :#df['fav_count']>=likes\n",
    "        S_count=S_count+1\n",
    "        reputation.append(reput[i])\n",
    "        AgeOfAccount.append(int(AgeAcc[i]))\n",
    "        TweetPerFollower.append(T_PerFollower[i])\n",
    "        label.append(1)\n",
    "    else:\n",
    "        NS_count=NS_count+1\n",
    "        reputation.append(reput[i])\n",
    "        AgeOfAccount.append(int(AgeAcc[i]))\n",
    "        TweetPerFollower.append(T_PerFollower[i])\n",
    "        label.append(0)\n",
    "\n",
    "df['reputation']=reputation\n",
    "df['label']=label\n",
    "df['AgeOfAccount']=AgeOfAccount\n",
    "df['TweetPerFollower']=TweetPerFollower\n",
    "\n",
    "for i in df['AgeOfAccount']:\n",
    "    if i==0:\n",
    "        tweet_per_day=0\n",
    "    else:\n",
    "        tweet_per_day=df['tweet_count']/i\n",
    "        \n",
    "for i in range(0,len(ftof_ratio)):\n",
    "    TweetPerDay.append(tweet_per_day[i])\n",
    "#df['TweetPerDay'].fillna(0,inplace=True)\n",
    "df['TweetPerDay']=TweetPerDay\n",
    "col10=df['reputation']\n",
    "col11=df['AgeOfAccount']\n",
    "col12=df['TweetPerFollower']\n",
    "col13=df['TweetPerDay']\n",
    "col14=df['label']\n",
    "\n",
    "dict1 = {'ID': col1, 'Followers': col2, 'following': col3, 'sn_len':col4,'ds_len': col5,'tweet_count':col6,\n",
    "         'retweet_count':col7,'created_at':col8,'collected_at':col9,'reputation':col10,'AgeOfAccount':col11,\n",
    "         'TweetPerFollower':col12,'TweetPerDay':col13,'label':col14}\n",
    "data = pd.DataFrame(dict1)\n",
    "data.to_csv('tweetsc.csv')\n"
   ]
  },
  {
   "cell_type": "code",
   "execution_count": 542,
   "metadata": {},
   "outputs": [
    {
     "data": {
      "text/plain": [
       "0    9286\n",
       "1     714\n",
       "Name: label, dtype: int64"
      ]
     },
     "execution_count": 542,
     "metadata": {},
     "output_type": "execute_result"
    }
   ],
   "source": [
    "data.label.value_counts()"
   ]
  },
  {
   "cell_type": "code",
   "execution_count": 543,
   "metadata": {},
   "outputs": [
    {
     "name": "stdout",
     "output_type": "stream",
     "text": [
      "(10000, 6)\n",
      "<class 'pandas.core.frame.DataFrame'>\n"
     ]
    }
   ],
   "source": [
    "feature=['following','Followers','TweetPerFollower','TweetPerDay','sn_len','retweet_count']\n",
    "x=data[feature]\n",
    "print(x.shape)\n",
    "print(type(x))\n",
    "y=data['label']"
   ]
  },
  {
   "cell_type": "code",
   "execution_count": 544,
   "metadata": {},
   "outputs": [
    {
     "name": "stdout",
     "output_type": "stream",
     "text": [
      "(8000, 6)\n",
      "(8000,)\n",
      "(2000, 6)\n",
      "(2000,)\n"
     ]
    }
   ],
   "source": [
    "from sklearn.model_selection import train_test_split\n",
    "x_train,x_test,y_train,y_test=train_test_split(x,y,test_size = 0.20,random_state=1)\n",
    "print(x_train.shape)\n",
    "print(y_train.shape)\n",
    "print(x_test.shape)\n",
    "print(y_test.shape)\n"
   ]
  },
  {
   "cell_type": "code",
   "execution_count": 545,
   "metadata": {},
   "outputs": [
    {
     "name": "stdout",
     "output_type": "stream",
     "text": [
      "Classifier Accuracy from test and train split: 0.9355\n",
      "\n",
      "\n",
      "              precision    recall  f1-score   support\n",
      "\n",
      "           0       0.97      0.96      0.97      1859\n",
      "           1       0.54      0.60      0.57       141\n",
      "\n",
      "    accuracy                           0.94      2000\n",
      "   macro avg       0.75      0.78      0.77      2000\n",
      "weighted avg       0.94      0.94      0.94      2000\n",
      "\n",
      "Confusion Matrix: \n",
      "[[1786   73]\n",
      " [  56   85]]\n"
     ]
    }
   ],
   "source": [
    "#knn\n",
    "from sklearn.neighbors import KNeighborsClassifier\n",
    "from sklearn import metrics\n",
    "knn=KNeighborsClassifier(n_neighbors=1)\n",
    "knn.fit(x_train,y_train)\n",
    "y_pred=knn.predict(x_test)\n",
    "print(\"Classifier Accuracy from test and train split: \"+str(metrics.accuracy_score(y_test,y_pred)))\n",
    "print(\"\\n\")\n",
    "print(metrics.classification_report(y_test,y_pred))\n",
    "print(\"Confusion Matrix: \")\n",
    "print(metrics.confusion_matrix(y_test,y_pred))"
   ]
  },
  {
   "cell_type": "code",
   "execution_count": 546,
   "metadata": {},
   "outputs": [
    {
     "name": "stdout",
     "output_type": "stream",
     "text": [
      "[0.969 0.917 0.934 0.938 0.939 0.954 0.926 0.93  0.931 0.92 ]\n",
      "0.9357999999999999\n"
     ]
    }
   ],
   "source": [
    "from sklearn.model_selection import cross_val_score\n",
    "knn=KNeighborsClassifier(n_neighbors=1)\n",
    "scores=cross_val_score(knn,x,y,cv=10,scoring='accuracy')\n",
    "print(scores)\n",
    "print(scores.mean())"
   ]
  },
  {
   "cell_type": "code",
   "execution_count": 547,
   "metadata": {},
   "outputs": [
    {
     "name": "stdout",
     "output_type": "stream",
     "text": [
      "Accuracy: 0.9615\n",
      "\n",
      "\n",
      "Classifier performance report: \n",
      "              precision    recall  f1-score   support\n",
      "\n",
      "           0       0.98      0.98      0.98      1859\n",
      "           1       0.74      0.70      0.72       141\n",
      "\n",
      "    accuracy                           0.96      2000\n",
      "   macro avg       0.86      0.84      0.85      2000\n",
      "weighted avg       0.96      0.96      0.96      2000\n",
      "\n",
      "Confusion matrix: \n",
      "[[1824   35]\n",
      " [  42   99]]\n"
     ]
    }
   ],
   "source": [
    "#Decisiontree\n",
    "from sklearn.tree import DecisionTreeClassifier\n",
    "est=DecisionTreeClassifier()\n",
    "est.fit(x_train,y_train)\n",
    "y_pred=est.predict(x_test)\n",
    "print(\"Accuracy: \"+str(metrics.accuracy_score(y_test,y_pred)))\n",
    "print(\"\\n\")\n",
    "print(\"Classifier performance report: \")\n",
    "print(metrics.classification_report(y_test,y_pred))\n",
    "print(\"Confusion matrix: \")\n",
    "print(metrics.confusion_matrix(y_test,y_pred))"
   ]
  },
  {
   "cell_type": "code",
   "execution_count": 548,
   "metadata": {},
   "outputs": [
    {
     "name": "stdout",
     "output_type": "stream",
     "text": [
      "[0.969 0.917 0.934 0.938 0.939 0.954 0.926 0.93  0.931 0.92 ]\n",
      "0.9357999999999999\n"
     ]
    }
   ],
   "source": [
    "#Decisiontree cross\n",
    "from sklearn.model_selection import cross_val_score\n",
    "from sklearn.tree import DecisionTreeClassifier\n",
    "scores=cross_val_score(knn,x,y,cv=10,scoring='accuracy')\n",
    "print(scores)\n",
    "print(scores.mean())"
   ]
  },
  {
   "cell_type": "code",
   "execution_count": 549,
   "metadata": {},
   "outputs": [
    {
     "name": "stdout",
     "output_type": "stream",
     "text": [
      "Accuracy: 0.362\n",
      "\n",
      "\n",
      "performance: \n",
      "              precision    recall  f1-score   support\n",
      "\n",
      "           0       1.00      0.31      0.48      1859\n",
      "           1       0.10      1.00      0.18       141\n",
      "\n",
      "    accuracy                           0.36      2000\n",
      "   macro avg       0.55      0.66      0.33      2000\n",
      "weighted avg       0.94      0.36      0.46      2000\n",
      "\n",
      "coonfusion matrix: \n",
      "[[ 583 1276]\n",
      " [   0  141]]\n"
     ]
    }
   ],
   "source": [
    "#naive bayes\n",
    "from sklearn.naive_bayes import MultinomialNB\n",
    "est=MultinomialNB()\n",
    "est.fit(x_train,y_train)\n",
    "y_pred=est.predict(x_test)\n",
    "print(\"Accuracy: \"+str(metrics.accuracy_score(y_test,y_pred)))\n",
    "print(\"\\n\")\n",
    "print(\"performance: \")\n",
    "print(metrics.classification_report(y_test,y_pred))\n",
    "print(\"coonfusion matrix: \")\n",
    "print(metrics.confusion_matrix(y_test,y_pred))\n",
    "\n"
   ]
  },
  {
   "cell_type": "code",
   "execution_count": 550,
   "metadata": {},
   "outputs": [
    {
     "name": "stdout",
     "output_type": "stream",
     "text": [
      "Accuracy: 0.964\n",
      "\n",
      "\n",
      "Classifier performance report: \n",
      "              precision    recall  f1-score   support\n",
      "\n",
      "           0       0.98      0.99      0.98      1859\n",
      "           1       0.78      0.68      0.73       141\n",
      "\n",
      "    accuracy                           0.96      2000\n",
      "   macro avg       0.88      0.83      0.85      2000\n",
      "weighted avg       0.96      0.96      0.96      2000\n",
      "\n",
      "Confusion matrix: \n",
      "[[1832   27]\n",
      " [  45   96]]\n"
     ]
    }
   ],
   "source": [
    "#random forest\n",
    "\n",
    "from sklearn.ensemble import RandomForestClassifier\n",
    "est=RandomForestClassifier()\n",
    "est.fit(x_train,y_train)\n",
    "y_pred=est.predict(x_test)\n",
    "print(\"Accuracy: \"+str(metrics.accuracy_score(y_test,y_pred)))\n",
    "print(\"\\n\")\n",
    "print(\"Classifier performance report: \")\n",
    "print(metrics.classification_report(y_test,y_pred))\n",
    "print(\"Confusion matrix: \")\n",
    "print(metrics.confusion_matrix(y_test,y_pred))"
   ]
  },
  {
   "cell_type": "code",
   "execution_count": 551,
   "metadata": {},
   "outputs": [
    {
     "name": "stdout",
     "output_type": "stream",
     "text": [
      "[0.982 0.959 0.968 0.961 0.968 0.976 0.963 0.961 0.963 0.945]\n",
      "0.9645999999999999\n"
     ]
    }
   ],
   "source": [
    "from sklearn.model_selection import cross_val_score\n",
    "from sklearn.ensemble import RandomForestClassifier\n",
    "scores=cross_val_score(est,x,y,cv=10,scoring='accuracy')\n",
    "print(scores)\n",
    "print(scores.mean())"
   ]
  },
  {
   "cell_type": "code",
   "execution_count": 552,
   "metadata": {},
   "outputs": [
    {
     "name": "stdout",
     "output_type": "stream",
     "text": [
      "Accuracy: 0.9295\n",
      "\n",
      "\n",
      "Classifier performance report: \n",
      "              precision    recall  f1-score   support\n",
      "\n",
      "           0       0.93      1.00      0.96      1859\n",
      "           1       0.00      0.00      0.00       141\n",
      "\n",
      "    accuracy                           0.93      2000\n",
      "   macro avg       0.46      0.50      0.48      2000\n",
      "weighted avg       0.86      0.93      0.90      2000\n",
      "\n",
      "Confusion matrix: \n",
      "[[1859    0]\n",
      " [ 141    0]]\n"
     ]
    },
    {
     "name": "stderr",
     "output_type": "stream",
     "text": [
      "C:\\Users\\Dell\\anaconda3\\envs\\ml_202\\lib\\site-packages\\sklearn\\metrics\\_classification.py:1245: UndefinedMetricWarning: Precision and F-score are ill-defined and being set to 0.0 in labels with no predicted samples. Use `zero_division` parameter to control this behavior.\n",
      "  _warn_prf(average, modifier, msg_start, len(result))\n",
      "C:\\Users\\Dell\\anaconda3\\envs\\ml_202\\lib\\site-packages\\sklearn\\metrics\\_classification.py:1245: UndefinedMetricWarning: Precision and F-score are ill-defined and being set to 0.0 in labels with no predicted samples. Use `zero_division` parameter to control this behavior.\n",
      "  _warn_prf(average, modifier, msg_start, len(result))\n",
      "C:\\Users\\Dell\\anaconda3\\envs\\ml_202\\lib\\site-packages\\sklearn\\metrics\\_classification.py:1245: UndefinedMetricWarning: Precision and F-score are ill-defined and being set to 0.0 in labels with no predicted samples. Use `zero_division` parameter to control this behavior.\n",
      "  _warn_prf(average, modifier, msg_start, len(result))\n"
     ]
    }
   ],
   "source": [
    "#svm\n",
    "from sklearn import svm\n",
    "from sklearn import metrics\n",
    "clf=svm.SVC(kernel='rbf')\n",
    "clf.fit(x_train,y_train)\n",
    "y_pred=clf.predict(x_test)\n",
    "print(\"Accuracy: \"+str(metrics.accuracy_score(y_test,y_pred)))\n",
    "print(\"\\n\")\n",
    "print(\"Classifier performance report: \")\n",
    "print(metrics.classification_report(y_test,y_pred))\n",
    "print(\"Confusion matrix: \")\n",
    "print(metrics.confusion_matrix(y_test,y_pred))"
   ]
  },
  {
   "cell_type": "code",
   "execution_count": 553,
   "metadata": {},
   "outputs": [
    {
     "name": "stdout",
     "output_type": "stream",
     "text": [
      "[0.929 0.929 0.929 0.929 0.929 0.929 0.928 0.928 0.928 0.928]\n",
      "0.9286000000000001\n"
     ]
    }
   ],
   "source": [
    "from sklearn.model_selection import cross_val_score\n",
    "from sklearn import svm\n",
    "scores=cross_val_score(clf,x,y,cv=10,scoring='accuracy')\n",
    "print(scores)\n",
    "print(scores.mean())"
   ]
  },
  {
   "cell_type": "markdown",
   "metadata": {},
   "source": [
    "Bagging"
   ]
  },
  {
   "cell_type": "code",
   "execution_count": 554,
   "metadata": {},
   "outputs": [],
   "source": [
    "# Using bagging\n",
    "import pandas as pd\n",
    "dataset=pd.read_csv('tweetsc.csv')"
   ]
  },
  {
   "cell_type": "code",
   "execution_count": 555,
   "metadata": {},
   "outputs": [
    {
     "name": "stdout",
     "output_type": "stream",
     "text": [
      "(10000, 6)\n"
     ]
    }
   ],
   "source": [
    "feature=['following','Followers','TweetPerFollower','TweetPerDay','sn_len','retweet_count']\n",
    "x=dataset[feature]\n",
    "print(x.shape)\n",
    "#print(type(x))\n",
    "y=dataset['label']\n",
    "from sklearn.model_selection import train_test_split\n",
    "x_train,x_test,y_train,y_test=train_test_split(x,y,test_size=0.2,random_state=1)\n",
    "xx_test=x_test"
   ]
  },
  {
   "cell_type": "code",
   "execution_count": 556,
   "metadata": {},
   "outputs": [],
   "source": [
    "from sklearn.preprocessing import StandardScaler\n",
    "sc = StandardScaler()\n",
    "x_train = sc.fit_transform(x_train)\n",
    "x_test = sc.transform(x_test)"
   ]
  },
  {
   "cell_type": "code",
   "execution_count": 557,
   "metadata": {},
   "outputs": [],
   "source": [
    "from sklearn.ensemble import RandomForestClassifier\n",
    "classifier = RandomForestClassifier(n_estimators=20, random_state=0)\n",
    "classifier.fit(x_train, y_train)\n",
    "y_pred = classifier.predict(x_test)\n",
    "   "
   ]
  },
  {
   "cell_type": "code",
   "execution_count": 573,
   "metadata": {},
   "outputs": [
    {
     "name": "stdout",
     "output_type": "stream",
     "text": [
      "1832\n"
     ]
    }
   ],
   "source": [
    "#separation code for true positive data\n",
    "y_pd=[]\n",
    "y_te=[]\n",
    "y_pd=list(y_pred)\n",
    "y_te=list(y_test)\n",
    "lst_i=[]\n",
    "\n",
    "for i in range(0,len(y_te)):\n",
    "    if y_pd[i]==0 and y_te[i]==y_pd[i]:  #condition for true positive data\n",
    "        lst_i.append(i)\n",
    "\n",
    "print(len(lst_i))\n",
    "old_index=xx_test.index\n",
    "old_index=list(old_index)"
   ]
  },
  {
   "cell_type": "code",
   "execution_count": 559,
   "metadata": {},
   "outputs": [
    {
     "name": "stdout",
     "output_type": "stream",
     "text": [
      "(1832, 7)\n"
     ]
    },
    {
     "name": "stderr",
     "output_type": "stream",
     "text": [
      "C:\\Users\\Dell\\anaconda3\\envs\\ml_202\\lib\\site-packages\\ipykernel_launcher.py:3: SettingWithCopyWarning: \n",
      "A value is trying to be set on a copy of a slice from a DataFrame.\n",
      "Try using .loc[row_indexer,col_indexer] = value instead\n",
      "\n",
      "See the caveats in the documentation: https://pandas.pydata.org/pandas-docs/stable/user_guide/indexing.html#returning-a-view-versus-a-copy\n",
      "  This is separate from the ipykernel package so we can avoid doing imports until\n",
      "C:\\Users\\Dell\\anaconda3\\envs\\ml_202\\lib\\site-packages\\ipykernel_launcher.py:4: SettingWithCopyWarning: \n",
      "A value is trying to be set on a copy of a slice from a DataFrame.\n",
      "Try using .loc[row_indexer,col_indexer] = value instead\n",
      "\n",
      "See the caveats in the documentation: https://pandas.pydata.org/pandas-docs/stable/user_guide/indexing.html#returning-a-view-versus-a-copy\n",
      "  after removing the cwd from sys.path.\n"
     ]
    }
   ],
   "source": [
    "index=[i for i in range(0,len(y_te))]\n",
    "predicted=[y_te[i] for i in  range(0,len(y_te))]\n",
    "xx_test['index']=index\n",
    "xx_test['predicted']=predicted\n",
    "xx_test.set_index(\"index\", inplace = True)\n",
    "xx_test= xx_test[xx_test.index.isin(lst_i)]\n",
    "print(xx_test.shape)"
   ]
  },
  {
   "cell_type": "code",
   "execution_count": 560,
   "metadata": {},
   "outputs": [],
   "source": [
    "xx_test.to_csv('test.csv')"
   ]
  },
  {
   "cell_type": "code",
   "execution_count": 561,
   "metadata": {},
   "outputs": [
    {
     "name": "stdout",
     "output_type": "stream",
     "text": [
      "0.968\n",
      "              precision    recall  f1-score   support\n",
      "\n",
      "           0       0.98      0.99      0.98      1859\n",
      "           1       0.79      0.74      0.76       141\n",
      "\n",
      "    accuracy                           0.97      2000\n",
      "   macro avg       0.89      0.86      0.87      2000\n",
      "weighted avg       0.97      0.97      0.97      2000\n",
      "\n",
      "[[1832   27]\n",
      " [  37  104]]\n"
     ]
    }
   ],
   "source": [
    "\n",
    "from sklearn.metrics import classification_report, confusion_matrix, accuracy_score\n",
    "print(accuracy_score(y_test, y_pred))\n",
    "print(classification_report(y_test,y_pred))\n",
    "print(confusion_matrix(y_test,y_pred))"
   ]
  },
  {
   "cell_type": "code",
   "execution_count": 562,
   "metadata": {},
   "outputs": [
    {
     "name": "stdout",
     "output_type": "stream",
     "text": [
      "[0.983 0.959 0.969 0.969 0.968 0.973 0.955 0.959 0.961 0.946]\n",
      "0.9642\n"
     ]
    }
   ],
   "source": [
    "from sklearn.model_selection import cross_val_score\n",
    "from sklearn.ensemble import RandomForestClassifier\n",
    "scores=cross_val_score(est,x,y,cv=10,scoring='accuracy')\n",
    "print(scores)\n",
    "print(scores.mean())"
   ]
  },
  {
   "cell_type": "code",
   "execution_count": null,
   "metadata": {},
   "outputs": [],
   "source": []
  },
  {
   "cell_type": "markdown",
   "metadata": {},
   "source": [
    "Sentiment Analysis"
   ]
  },
  {
   "cell_type": "code",
   "execution_count": 563,
   "metadata": {},
   "outputs": [
    {
     "name": "stdout",
     "output_type": "stream",
     "text": [
      "Requirement already satisfied: textblob in c:\\users\\dell\\anaconda3\\envs\\ml_202\\lib\\site-packages (0.15.3)\n",
      "Requirement already satisfied: nltk>=3.1 in c:\\users\\dell\\anaconda3\\envs\\ml_202\\lib\\site-packages (from textblob) (3.5)\n",
      "Requirement already satisfied: tqdm in c:\\users\\dell\\anaconda3\\envs\\ml_202\\lib\\site-packages (from nltk>=3.1->textblob) (4.58.0)\n",
      "Requirement already satisfied: click in c:\\users\\dell\\anaconda3\\envs\\ml_202\\lib\\site-packages (from nltk>=3.1->textblob) (7.1.2)\n",
      "Requirement already satisfied: joblib in c:\\users\\dell\\anaconda3\\envs\\ml_202\\lib\\site-packages (from nltk>=3.1->textblob) (1.0.0)\n",
      "Requirement already satisfied: regex in c:\\users\\dell\\anaconda3\\envs\\ml_202\\lib\\site-packages (from nltk>=3.1->textblob) (2020.11.13)\n",
      "Requirement already satisfied: nltk in c:\\users\\dell\\anaconda3\\envs\\ml_202\\lib\\site-packages (3.5)\n",
      "Requirement already satisfied: regex in c:\\users\\dell\\anaconda3\\envs\\ml_202\\lib\\site-packages (from nltk) (2020.11.13)\n",
      "Requirement already satisfied: click in c:\\users\\dell\\anaconda3\\envs\\ml_202\\lib\\site-packages (from nltk) (7.1.2)\n",
      "Requirement already satisfied: joblib in c:\\users\\dell\\anaconda3\\envs\\ml_202\\lib\\site-packages (from nltk) (1.0.0)\n",
      "Requirement already satisfied: tqdm in c:\\users\\dell\\anaconda3\\envs\\ml_202\\lib\\site-packages (from nltk) (4.58.0)\n"
     ]
    }
   ],
   "source": [
    "!pip install textblob\n",
    "!pip install nltk"
   ]
  },
  {
   "cell_type": "code",
   "execution_count": 564,
   "metadata": {},
   "outputs": [],
   "source": [
    "import re\n",
    "from textblob import TextBlob "
   ]
  },
  {
   "cell_type": "code",
   "execution_count": 565,
   "metadata": {},
   "outputs": [],
   "source": [
    "def clean_tweet(tweet): \n",
    "#function to clean tweet text by removing links,special characters using simple regex statements \n",
    "        \n",
    "    return ' '.join(re.sub(\"(@[A-Za-z0-9]+)|([^0-9A-Za-z \\t])|(\\w+:\\/\\/\\S+)\", \" \", tweet).split()) \n",
    "  \n",
    "    \n",
    "def get_tweet_sentiment(tweet): \n",
    "#function to classify sentiment of passed tweet using textblob's sentiment method\n",
    "# create TextBlob object of passed tweet text \n",
    "    analysis = TextBlob(clean_tweet(tweet)) \n",
    "    # set sentiment \n",
    "    if analysis.sentiment.polarity > 0: \n",
    "        return 'positive'\n",
    "    elif analysis.sentiment.polarity == 0: \n",
    "        return 'neutral'\n",
    "    else: \n",
    "        return 'negative'"
   ]
  },
  {
   "cell_type": "code",
   "execution_count": 566,
   "metadata": {},
   "outputs": [
    {
     "name": "stdout",
     "output_type": "stream",
     "text": [
      "4859\n"
     ]
    }
   ],
   "source": [
    "#Sentiment analysis before data separation\n",
    "tweet_st=[]\n",
    "senti=[]\n",
    "for i in range(0,len(retweet_count)):\n",
    "    if retweet_count[i]>0:\n",
    "        if text[i] not in tweet_st:\n",
    "            tweet_st.append(text[i])\n",
    "    else:\n",
    "        tweet_st.append(text[i])\n",
    "#print(len(set(tweet_st)))\n",
    "\n",
    "for t in range(0,len(tweet_st)):\n",
    "    value=get_tweet_sentiment(tweet_st[t])  # saving sentiment of tweet \n",
    "    senti.append(value)\n",
    "print(len(tweet_st))"
   ]
  },
  {
   "cell_type": "code",
   "execution_count": 581,
   "metadata": {},
   "outputs": [
    {
     "name": "stdout",
     "output_type": "stream",
     "text": [
      "Positive tweets percentage: 43.280510393084995 %\n",
      "Negative tweets percentage: 19.03683885573163 %\n",
      "Neutral tweets percentage: 37.682650751183374 %\n"
     ]
    }
   ],
   "source": [
    "p_tweet=[]\n",
    "neg_tweet=[]\n",
    "neut_tweet=[]\n",
    "for i in range(0,len(senti)):\n",
    "    if senti[i]=='positive':\n",
    "        p_tweet.append(tweet_st[i])\n",
    "    if senti[i]=='negative':\n",
    "        neg_tweet.append(tweet_st[i])\n",
    "    if senti[i]=='neutral':\n",
    "        neut_tweet.append(tweet_st[i])\n",
    "pos=100*len(p_tweet)/len(tweet_st)\n",
    "neg=100*len(neg_tweet)/len(tweet_st)\n",
    "neu=100*len(neut_tweet)/len(tweet_st)       \n",
    "print(\"Positive tweets percentage: {} %\".format(100*len(p_tweet)/len(tweet_st)))\n",
    "print(\"Negative tweets percentage: {} %\".format(100*len(neg_tweet)/len(tweet_st)))\n",
    "print(\"Neutral tweets percentage: {} %\".format(100*len(neut_tweet)/len(tweet_st)))"
   ]
  },
  {
   "cell_type": "code",
   "execution_count": 582,
   "metadata": {},
   "outputs": [],
   "source": [
    "import matplotlib\n",
    "import matplotlib.pyplot as plotter"
   ]
  },
  {
   "cell_type": "code",
   "execution_count": 589,
   "metadata": {},
   "outputs": [
    {
     "data": {
      "image/png": "[encoded data removed]",
      "text/plain": [
       "<Figure size 432x288 with 1 Axes>"
      ]
     },
     "metadata": {
      "needs_background": "light"
     },
     "output_type": "display_data"
    }
   ],
   "source": [
    "pieLabel='Positive','Negative','Neutral'\n",
    "pieValue=[pos,neg,neu]\n",
    "figureObject, axesObject = plotter.subplots()\n",
    "axesObject.pie(pieValue,labels=pieLabel,autopct='%1.2f',\n",
    "               startangle=90,colors=['green','red','skyblue'],shadow=True,frame=True)\n",
    "# Aspect ratio - equal means pie is a circle\n",
    "axesObject.axis('equal')\n",
    "plotter.show()"
   ]
  },
  {
   "cell_type": "markdown",
   "metadata": {},
   "source": [
    "Sentimment analysis on non-spam data"
   ]
  },
  {
   "cell_type": "code",
   "execution_count": 568,
   "metadata": {},
   "outputs": [
    {
     "name": "stdout",
     "output_type": "stream",
     "text": [
      "10000\n",
      "1223\n"
     ]
    }
   ],
   "source": [
    "#getting non spam data\n",
    "non_spam_text=[]\n",
    "temp_ns=[]\n",
    "senti_ns=[]\n",
    "tweetsc_index=df.index\n",
    "tweetsc_index=list(tweetsc_index)\n",
    "#print(len(tweetsc_index))\n",
    "#print(ID)\n",
    "for i in range(0,len(tweetsc_index)):\n",
    "    for j in range(0,len(old_index)):\n",
    "        if tweetsc_index[i]==old_index[j]:\n",
    "            if retweet_count[i]>0:\n",
    "                if text[i] not in non_spam_text:\n",
    "                    non_spam_text.append(text[i])\n",
    "            else:\n",
    "                non_spam_text.append(text[i])\n",
    "                        \n",
    "for t in range(0,len(non_spam_text)):\n",
    "    value_ns=get_tweet_sentiment(non_spam_text[t])  # saving sentiment of tweet \n",
    "    senti_ns.append(value_ns)\n",
    "print(len(non_spam_text))"
   ]
  },
  {
   "cell_type": "code",
   "execution_count": 591,
   "metadata": {},
   "outputs": [
    {
     "name": "stdout",
     "output_type": "stream",
     "text": [
      "Positive tweets percentage: 45.29844644317253 %\n",
      "Negative tweets percentage: 17.170891251022077 %\n",
      "Neutral tweets percentage: 37.5306623058054 %\n"
     ]
    }
   ],
   "source": [
    "p_tweet_ns=[]\n",
    "neg_tweet_ns=[]\n",
    "neut_tweet_ns=[]\n",
    "for i in range(0,len(senti_ns)):\n",
    "    if senti_ns[i]=='positive':\n",
    "        p_tweet_ns.append(non_spam_text[i])\n",
    "    if senti_ns[i]=='negative':\n",
    "        neg_tweet_ns.append(non_spam_text[i])\n",
    "    if senti_ns[i]=='neutral':\n",
    "        neut_tweet_ns.append(non_spam_text[i])\n",
    "\n",
    "pos_ns=100*len(p_tweet_ns)/len(non_spam_text)\n",
    "neg_ns=100*len(neg_tweet_ns)/len(non_spam_text)\n",
    "neu_ns=100*len(neut_tweet_ns)/len(non_spam_text)\n",
    "print(\"Positive tweets percentage: {} %\".format(100*len(p_tweet_ns)/len(non_spam_text)))\n",
    "print(\"Negative tweets percentage: {} %\".format(100*len(neg_tweet_ns)/len(non_spam_text)))\n",
    "print(\"Neutral tweets percentage: {} %\".format(100*len(neut_tweet_ns)/len(non_spam_text)))"
   ]
  },
  {
   "cell_type": "code",
   "execution_count": 592,
   "metadata": {},
   "outputs": [
    {
     "data": {
      "image/png": "[encoded data removed]",
      "text/plain": [
       "<Figure size 432x288 with 1 Axes>"
      ]
     },
     "metadata": {
      "needs_background": "light"
     },
     "output_type": "display_data"
    }
   ],
   "source": [
    "pieLabel='Positive','Negative','Neutral'\n",
    "pieValue=[pos_ns,neg_ns,neu_ns]\n",
    "figureObject, axesObject = plotter.subplots()\n",
    "axesObject.pie(pieValue,labels=pieLabel,autopct='%1.2f',\n",
    "        startangle=90,colors=['green','red','skyblue'],shadow=True,frame=True)\n",
    "# Aspect ratio - equal means pie is a circle\n",
    "axesObject.axis('equal')\n",
    "plotter.show()"
   ]
  },
  {
   "cell_type": "code",
   "execution_count": null,
   "metadata": {},
   "outputs": [],
   "source": []
  }
 ],
 "metadata": {
  "kernelspec": {
   "display_name": "Python 3",
   "language": "python",
   "name": "python3"
  },
  "language_info": {
   "codemirror_mode": {
    "name": "ipython",
    "version": 3
   },
   "file_extension": ".py",
   "mimetype": "text/x-python",
   "name": "python",
   "nbconvert_exporter": "python",
   "pygments_lexer": "ipython3",
   "version": "3.7.9"
  }
 },
 "nbformat": 4,
 "nbformat_minor": 4
}
